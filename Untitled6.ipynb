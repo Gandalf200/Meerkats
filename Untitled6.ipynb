{
  "nbformat": 4,
  "nbformat_minor": 0,
  "metadata": {
    "colab": {
      "provenance": [],
      "toc_visible": true,
      "authorship_tag": "ABX9TyPvUyDXIFfeWiWEf5RiHjSj",
      "include_colab_link": true
    },
    "kernelspec": {
      "name": "python3",
      "display_name": "Python 3"
    },
    "language_info": {
      "name": "python"
    }
  },
  "cells": [
    {
      "cell_type": "markdown",
      "metadata": {
        "id": "view-in-github",
        "colab_type": "text"
      },
      "source": [
        "<a href=\"https://colab.research.google.com/github/Gandalf200/Meerkats/blob/master/Untitled6.ipynb\" target=\"_parent\"><img src=\"https://colab.research.google.com/assets/colab-badge.svg\" alt=\"Open In Colab\"/></a>"
      ]
    },
    {
      "cell_type": "markdown",
      "source": [
        "# Новый раздел"
      ],
      "metadata": {
        "id": "2qxd4cDmnHZM"
      }
    },
    {
      "cell_type": "markdown",
      "source": [
        "Meetkats\n",
        "===\n",
        "*Список:*\n",
        "- Белка\n",
        "- Моля\n",
        "- Бутусик\n",
        "- Вася\n",
        "- Сеня\n",
        "![сурикат](https://fikiwiki.com/uploads/posts/2022-02/1644810896_16-fikiwiki-com-p-surikati-krasivie-kartinki-20.jpg)\n",
        "\n",
        "|достоинства|недостатки|\n",
        "|-|-|\n",
        "|интересный |нет|\n",
        "\n",
        "[Сам сайт](https://homesuricate.ru)\n",
        "\n",
        "\n",
        "\n",
        "\n",
        "\n",
        "\n"
      ],
      "metadata": {
        "id": "Vla-6BX7oDfI"
      }
    },
    {
      "cell_type": "markdown",
      "source": [],
      "metadata": {
        "id": "hnQzZyyzqNBw"
      }
    },
    {
      "cell_type": "markdown",
      "source": [],
      "metadata": {
        "id": "QsolxdNGmqVz"
      }
    }
  ]
}